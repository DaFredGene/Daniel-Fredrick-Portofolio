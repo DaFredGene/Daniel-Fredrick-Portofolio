{
  "cells": [
    {
      "cell_type": "code",
      "execution_count": 1,
      "metadata": {
        "id": "b49T1YMrkznI"
      },
      "outputs": [],
      "source": [
        "import numpy as np\n",
        "import pandas as pd\n",
        "import matplotlib.pyplot as plt\n",
        "import tensorflow as tf\n",
        "from tensorflow import keras"
      ]
    },
    {
      "cell_type": "code",
      "execution_count": null,
      "metadata": {
        "colab": {
          "base_uri": "https://localhost:8080/"
        },
        "id": "C0x1sCZ4o4Po",
        "outputId": "4143fb6a-cc48-4407-b2ae-2c60e50981ff"
      },
      "outputs": [
        {
          "name": "stdout",
          "output_type": "stream",
          "text": [
            "Requirement already satisfied: kaggle in /usr/local/lib/python3.10/dist-packages (1.6.17)\n",
            "Requirement already satisfied: six>=1.10 in /usr/local/lib/python3.10/dist-packages (from kaggle) (1.17.0)\n",
            "Requirement already satisfied: certifi>=2023.7.22 in /usr/local/lib/python3.10/dist-packages (from kaggle) (2024.12.14)\n",
            "Requirement already satisfied: python-dateutil in /usr/local/lib/python3.10/dist-packages (from kaggle) (2.8.2)\n",
            "Requirement already satisfied: requests in /usr/local/lib/python3.10/dist-packages (from kaggle) (2.32.3)\n",
            "Requirement already satisfied: tqdm in /usr/local/lib/python3.10/dist-packages (from kaggle) (4.67.1)\n",
            "Requirement already satisfied: python-slugify in /usr/local/lib/python3.10/dist-packages (from kaggle) (8.0.4)\n",
            "Requirement already satisfied: urllib3 in /usr/local/lib/python3.10/dist-packages (from kaggle) (2.2.3)\n",
            "Requirement already satisfied: bleach in /usr/local/lib/python3.10/dist-packages (from kaggle) (6.2.0)\n",
            "Requirement already satisfied: webencodings in /usr/local/lib/python3.10/dist-packages (from bleach->kaggle) (0.5.1)\n",
            "Requirement already satisfied: text-unidecode>=1.3 in /usr/local/lib/python3.10/dist-packages (from python-slugify->kaggle) (1.3)\n",
            "Requirement already satisfied: charset-normalizer<4,>=2 in /usr/local/lib/python3.10/dist-packages (from requests->kaggle) (3.4.0)\n",
            "Requirement already satisfied: idna<4,>=2.5 in /usr/local/lib/python3.10/dist-packages (from requests->kaggle) (3.10)\n"
          ]
        }
      ],
      "source": [
        "!pip install kaggle"
      ]
    },
    {
      "cell_type": "code",
      "execution_count": null,
      "metadata": {
        "colab": {
          "base_uri": "https://localhost:8080/",
          "height": 90
        },
        "id": "ZOJAjLWio_t2",
        "outputId": "11679264-6bd4-4e01-aea0-69e6bb82f53e"
      },
      "outputs": [
        {
          "data": {
            "text/html": [
              "\n",
              "     <input type=\"file\" id=\"files-0f3cc7e5-3ff3-43a3-9e73-69b201c63013\" name=\"files[]\" multiple disabled\n",
              "        style=\"border:none\" />\n",
              "     <output id=\"result-0f3cc7e5-3ff3-43a3-9e73-69b201c63013\">\n",
              "      Upload widget is only available when the cell has been executed in the\n",
              "      current browser session. Please rerun this cell to enable.\n",
              "      </output>\n",
              "      <script>// Copyright 2017 Google LLC\n",
              "//\n",
              "// Licensed under the Apache License, Version 2.0 (the \"License\");\n",
              "// you may not use this file except in compliance with the License.\n",
              "// You may obtain a copy of the License at\n",
              "//\n",
              "//      http://www.apache.org/licenses/LICENSE-2.0\n",
              "//\n",
              "// Unless required by applicable law or agreed to in writing, software\n",
              "// distributed under the License is distributed on an \"AS IS\" BASIS,\n",
              "// WITHOUT WARRANTIES OR CONDITIONS OF ANY KIND, either express or implied.\n",
              "// See the License for the specific language governing permissions and\n",
              "// limitations under the License.\n",
              "\n",
              "/**\n",
              " * @fileoverview Helpers for google.colab Python module.\n",
              " */\n",
              "(function(scope) {\n",
              "function span(text, styleAttributes = {}) {\n",
              "  const element = document.createElement('span');\n",
              "  element.textContent = text;\n",
              "  for (const key of Object.keys(styleAttributes)) {\n",
              "    element.style[key] = styleAttributes[key];\n",
              "  }\n",
              "  return element;\n",
              "}\n",
              "\n",
              "// Max number of bytes which will be uploaded at a time.\n",
              "const MAX_PAYLOAD_SIZE = 100 * 1024;\n",
              "\n",
              "function _uploadFiles(inputId, outputId) {\n",
              "  const steps = uploadFilesStep(inputId, outputId);\n",
              "  const outputElement = document.getElementById(outputId);\n",
              "  // Cache steps on the outputElement to make it available for the next call\n",
              "  // to uploadFilesContinue from Python.\n",
              "  outputElement.steps = steps;\n",
              "\n",
              "  return _uploadFilesContinue(outputId);\n",
              "}\n",
              "\n",
              "// This is roughly an async generator (not supported in the browser yet),\n",
              "// where there are multiple asynchronous steps and the Python side is going\n",
              "// to poll for completion of each step.\n",
              "// This uses a Promise to block the python side on completion of each step,\n",
              "// then passes the result of the previous step as the input to the next step.\n",
              "function _uploadFilesContinue(outputId) {\n",
              "  const outputElement = document.getElementById(outputId);\n",
              "  const steps = outputElement.steps;\n",
              "\n",
              "  const next = steps.next(outputElement.lastPromiseValue);\n",
              "  return Promise.resolve(next.value.promise).then((value) => {\n",
              "    // Cache the last promise value to make it available to the next\n",
              "    // step of the generator.\n",
              "    outputElement.lastPromiseValue = value;\n",
              "    return next.value.response;\n",
              "  });\n",
              "}\n",
              "\n",
              "/**\n",
              " * Generator function which is called between each async step of the upload\n",
              " * process.\n",
              " * @param {string} inputId Element ID of the input file picker element.\n",
              " * @param {string} outputId Element ID of the output display.\n",
              " * @return {!Iterable<!Object>} Iterable of next steps.\n",
              " */\n",
              "function* uploadFilesStep(inputId, outputId) {\n",
              "  const inputElement = document.getElementById(inputId);\n",
              "  inputElement.disabled = false;\n",
              "\n",
              "  const outputElement = document.getElementById(outputId);\n",
              "  outputElement.innerHTML = '';\n",
              "\n",
              "  const pickedPromise = new Promise((resolve) => {\n",
              "    inputElement.addEventListener('change', (e) => {\n",
              "      resolve(e.target.files);\n",
              "    });\n",
              "  });\n",
              "\n",
              "  const cancel = document.createElement('button');\n",
              "  inputElement.parentElement.appendChild(cancel);\n",
              "  cancel.textContent = 'Cancel upload';\n",
              "  const cancelPromise = new Promise((resolve) => {\n",
              "    cancel.onclick = () => {\n",
              "      resolve(null);\n",
              "    };\n",
              "  });\n",
              "\n",
              "  // Wait for the user to pick the files.\n",
              "  const files = yield {\n",
              "    promise: Promise.race([pickedPromise, cancelPromise]),\n",
              "    response: {\n",
              "      action: 'starting',\n",
              "    }\n",
              "  };\n",
              "\n",
              "  cancel.remove();\n",
              "\n",
              "  // Disable the input element since further picks are not allowed.\n",
              "  inputElement.disabled = true;\n",
              "\n",
              "  if (!files) {\n",
              "    return {\n",
              "      response: {\n",
              "        action: 'complete',\n",
              "      }\n",
              "    };\n",
              "  }\n",
              "\n",
              "  for (const file of files) {\n",
              "    const li = document.createElement('li');\n",
              "    li.append(span(file.name, {fontWeight: 'bold'}));\n",
              "    li.append(span(\n",
              "        `(${file.type || 'n/a'}) - ${file.size} bytes, ` +\n",
              "        `last modified: ${\n",
              "            file.lastModifiedDate ? file.lastModifiedDate.toLocaleDateString() :\n",
              "                                    'n/a'} - `));\n",
              "    const percent = span('0% done');\n",
              "    li.appendChild(percent);\n",
              "\n",
              "    outputElement.appendChild(li);\n",
              "\n",
              "    const fileDataPromise = new Promise((resolve) => {\n",
              "      const reader = new FileReader();\n",
              "      reader.onload = (e) => {\n",
              "        resolve(e.target.result);\n",
              "      };\n",
              "      reader.readAsArrayBuffer(file);\n",
              "    });\n",
              "    // Wait for the data to be ready.\n",
              "    let fileData = yield {\n",
              "      promise: fileDataPromise,\n",
              "      response: {\n",
              "        action: 'continue',\n",
              "      }\n",
              "    };\n",
              "\n",
              "    // Use a chunked sending to avoid message size limits. See b/62115660.\n",
              "    let position = 0;\n",
              "    do {\n",
              "      const length = Math.min(fileData.byteLength - position, MAX_PAYLOAD_SIZE);\n",
              "      const chunk = new Uint8Array(fileData, position, length);\n",
              "      position += length;\n",
              "\n",
              "      const base64 = btoa(String.fromCharCode.apply(null, chunk));\n",
              "      yield {\n",
              "        response: {\n",
              "          action: 'append',\n",
              "          file: file.name,\n",
              "          data: base64,\n",
              "        },\n",
              "      };\n",
              "\n",
              "      let percentDone = fileData.byteLength === 0 ?\n",
              "          100 :\n",
              "          Math.round((position / fileData.byteLength) * 100);\n",
              "      percent.textContent = `${percentDone}% done`;\n",
              "\n",
              "    } while (position < fileData.byteLength);\n",
              "  }\n",
              "\n",
              "  // All done.\n",
              "  yield {\n",
              "    response: {\n",
              "      action: 'complete',\n",
              "    }\n",
              "  };\n",
              "}\n",
              "\n",
              "scope.google = scope.google || {};\n",
              "scope.google.colab = scope.google.colab || {};\n",
              "scope.google.colab._files = {\n",
              "  _uploadFiles,\n",
              "  _uploadFilesContinue,\n",
              "};\n",
              "})(self);\n",
              "</script> "
            ],
            "text/plain": [
              "<IPython.core.display.HTML object>"
            ]
          },
          "metadata": {},
          "output_type": "display_data"
        },
        {
          "name": "stdout",
          "output_type": "stream",
          "text": [
            "Saving kaggle.json to kaggle (1).json\n"
          ]
        },
        {
          "data": {
            "text/plain": [
              "{'kaggle (1).json': b'{\"username\":\"apepexz\",\"key\":\"789278ce01e65dfc203e37ba88bb71a5\"}'}"
            ]
          },
          "execution_count": 3,
          "metadata": {},
          "output_type": "execute_result"
        }
      ],
      "source": [
        "from google.colab import files\n",
        "\n",
        "files.upload()"
      ]
    },
    {
      "cell_type": "code",
      "execution_count": null,
      "metadata": {
        "colab": {
          "base_uri": "https://localhost:8080/"
        },
        "id": "1ddmPxy3pFkQ",
        "outputId": "1375b520-8366-4130-84fd-45b25a37f927"
      },
      "outputs": [
        {
          "name": "stdout",
          "output_type": "stream",
          "text": [
            "mkdir: cannot create directory ‘/root/.kaggle’: File exists\n"
          ]
        }
      ],
      "source": [
        "! mkdir ~/.kaggle"
      ]
    },
    {
      "cell_type": "code",
      "execution_count": null,
      "metadata": {
        "id": "VQxcjDZPpIIV"
      },
      "outputs": [],
      "source": [
        "! cp kaggle.json ~/.kaggle/"
      ]
    },
    {
      "cell_type": "code",
      "execution_count": null,
      "metadata": {
        "id": "g9WFbn35pKWs"
      },
      "outputs": [],
      "source": [
        "! chmod 600 ~/.kaggle/kaggle.json"
      ]
    },
    {
      "cell_type": "code",
      "execution_count": null,
      "metadata": {
        "colab": {
          "base_uri": "https://localhost:8080/"
        },
        "id": "HzsWk-CNpM_9",
        "outputId": "7e7af75d-b3f0-4631-ec2d-dfd73529d0a9"
      },
      "outputs": [
        {
          "name": "stdout",
          "output_type": "stream",
          "text": [
            "Dataset URL: https://www.kaggle.com/datasets/CooperUnion/anime-recommendations-database\n",
            "License(s): CC0-1.0\n",
            "anime-recommendations-database.zip: Skipping, found more recently modified local copy (use --force to force download)\n"
          ]
        }
      ],
      "source": [
        "!kaggle datasets download -d CooperUnion/anime-recommendations-database"
      ]
    },
    {
      "cell_type": "code",
      "execution_count": null,
      "metadata": {
        "colab": {
          "base_uri": "https://localhost:8080/"
        },
        "id": "uVOK7YA8q2_9",
        "outputId": "1a52fa9e-a85d-4fbc-c0e0-ec4a240dc48a"
      },
      "outputs": [
        {
          "name": "stdout",
          "output_type": "stream",
          "text": [
            "Archive:  anime-recommendations-database.zip\n",
            "replace anime.csv? [y]es, [n]o, [A]ll, [N]one, [r]ename: N\n"
          ]
        }
      ],
      "source": [
        "!unzip anime-recommendations-database.zip"
      ]
    },
    {
      "cell_type": "code",
      "execution_count": null,
      "metadata": {
        "colab": {
          "base_uri": "https://localhost:8080/"
        },
        "id": "4985Br8uq9CD",
        "outputId": "f879e6cc-c61b-47aa-9ce5-d868b5119dd3"
      },
      "outputs": [
        {
          "name": "stdout",
          "output_type": "stream",
          "text": [
            "     user_id  anime_id  rating\n",
            "4          1       241      -1\n",
            "536        5     10172       1\n",
            "661        5     18497       5\n",
            "684        5     20159       7\n",
            "694        5     20787       3\n",
            "   anime_id                              name  \\\n",
            "0     32281                    Kimi no Na wa.   \n",
            "1      5114  Fullmetal Alchemist: Brotherhood   \n",
            "2     28977                          Gintama°   \n",
            "3      9253                       Steins;Gate   \n",
            "4      9969                     Gintama&#039;   \n",
            "\n",
            "                                               genre   type episodes  rating  \\\n",
            "0               Drama, Romance, School, Supernatural  Movie        1    9.37   \n",
            "1  Action, Adventure, Drama, Fantasy, Magic, Mili...     TV       64    9.26   \n",
            "2  Action, Comedy, Historical, Parody, Samurai, S...     TV       51    9.25   \n",
            "3                                   Sci-Fi, Thriller     TV       24    9.17   \n",
            "4  Action, Comedy, Historical, Parody, Samurai, S...     TV       51    9.16   \n",
            "\n",
            "   members  \n",
            "0   200630  \n",
            "1   793665  \n",
            "2   114262  \n",
            "3   673572  \n",
            "4   151266  \n"
          ]
        }
      ],
      "source": [
        "anime = pd.read_csv('anime.csv')\n",
        "rating = pd.read_csv('rating.csv')\n",
        "fraction_to_keep = 1 / 150\n",
        "random_mask = np.random.rand(len(rating)) < fraction_to_keep\n",
        "rating_filtered = rating[random_mask]\n",
        "rating_filtered.to_csv('rating_filtered.csv', index=False)\n",
        "print(rating_filtered.head())\n",
        "print(anime.head())"
      ]
    },
    {
      "cell_type": "code",
      "execution_count": null,
      "metadata": {
        "colab": {
          "base_uri": "https://localhost:8080/"
        },
        "id": "uL0unFDEv2_G",
        "outputId": "af865b31-77f1-40c4-9b41-82d5a2f63afd"
      },
      "outputs": [
        {
          "name": "stdout",
          "output_type": "stream",
          "text": [
            "(12294, 7)\n",
            "(52030, 3)\n"
          ]
        }
      ],
      "source": [
        "print(anime.shape)\n",
        "print(rating_filtered.shape)"
      ]
    },
    {
      "cell_type": "code",
      "execution_count": null,
      "metadata": {
        "id": "tuepES9lss4P"
      },
      "outputs": [],
      "source": [
        "Yawal = rating_filtered.pivot_table(\n",
        "    index='anime_id',\n",
        "    columns='user_id',\n",
        "    values='rating',\n",
        "    fill_value=-1\n",
        ")"
      ]
    },
    {
      "cell_type": "code",
      "execution_count": null,
      "metadata": {
        "colab": {
          "base_uri": "https://localhost:8080/",
          "height": 972
        },
        "id": "kx3d3DPRz5PG",
        "outputId": "eea826c7-604e-424b-f68b-c38862d184e9"
      },
      "outputs": [
        {
          "name": "stderr",
          "output_type": "stream",
          "text": [
            "<ipython-input-13-428bceb93221>:1: FutureWarning: DataFrame.applymap has been deprecated. Use DataFrame.map instead.\n",
            "  R = Yawal.applymap(lambda x: 0 if x == -1 else 1)\n",
            "<ipython-input-13-428bceb93221>:2: FutureWarning: DataFrame.applymap has been deprecated. Use DataFrame.map instead.\n",
            "  Y = Yawal.applymap(lambda x: 0 if x == -1 else x)\n"
          ]
        },
        {
          "name": "stdout",
          "output_type": "stream",
          "text": [
            "user_id   1      5      7      13     14     17     18     23     24     \\\n",
            "anime_id                                                                  \n",
            "1             0      0      0      0      0      0      0      0      0   \n",
            "5             0      0      0      0      0      0      0      0      0   \n",
            "6             0      0      0      0      0      0      0      0      0   \n",
            "7             0      0      0      0      0      0      0      0      0   \n",
            "8             0      0      0      0      0      0      0      0      0   \n",
            "\n",
            "user_id   28     ...  73485  73495  73499  73500  73502  73503  73507  73510  \\\n",
            "anime_id         ...                                                           \n",
            "1             0  ...      0      0      0      0      0      0      0      0   \n",
            "5             0  ...      0      0      0      0      0      0      0      0   \n",
            "6             0  ...      0      0      0      0      0      0      0      0   \n",
            "7             0  ...      0      0      0      0      0      0      0      0   \n",
            "8             0  ...      0      0      0      0      0      0      0      0   \n",
            "\n",
            "user_id   73513  73515  \n",
            "anime_id                \n",
            "1             0      0  \n",
            "5             0      0  \n",
            "6             0      0  \n",
            "7             0      0  \n",
            "8             0      0  \n",
            "\n",
            "[5 rows x 27477 columns]\n",
            "user_id   1      5      7      13     14     17     18     23     24     \\\n",
            "anime_id                                                                  \n",
            "1             0    0.0    0.0      0    0.0      0    0.0    0.0    0.0   \n",
            "5             0    0.0    0.0      0    0.0      0    0.0    0.0    0.0   \n",
            "6             0    0.0    0.0      0    0.0      0    0.0    0.0    0.0   \n",
            "7             0    0.0    0.0      0    0.0      0    0.0    0.0    0.0   \n",
            "8             0    0.0    0.0      0    0.0      0    0.0    0.0    0.0   \n",
            "\n",
            "user_id   28     ...  73485  73495  73499  73500  73502  73503  73507  73510  \\\n",
            "anime_id         ...                                                           \n",
            "1           0.0  ...    0.0    0.0    0.0    0.0    0.0    0.0    0.0    0.0   \n",
            "5           0.0  ...    0.0    0.0    0.0    0.0    0.0    0.0    0.0    0.0   \n",
            "6           0.0  ...    0.0    0.0    0.0    0.0    0.0    0.0    0.0    0.0   \n",
            "7           0.0  ...    0.0    0.0    0.0    0.0    0.0    0.0    0.0    0.0   \n",
            "8           0.0  ...    0.0    0.0    0.0    0.0    0.0    0.0    0.0    0.0   \n",
            "\n",
            "user_id   73513  73515  \n",
            "anime_id                \n",
            "1           0.0    0.0  \n",
            "5           0.0    0.0  \n",
            "6           0.0    0.0  \n",
            "7           0.0    0.0  \n",
            "8           0.0    0.0  \n",
            "\n",
            "[5 rows x 27477 columns]\n"
          ]
        },
        {
          "data": {
            "application/vnd.google.colaboratory.intrinsic+json": {
              "type": "string"
            },
            "text/plain": [
              "'\\n# Menghitung R: -1 menjadi 0, lainnya menjadi 1\\nR = np.where(Yawal == -1, 0, 1)\\n\\n# Menghitung Y: -1 menjadi 0, lainnya tetap\\nY = Yawal.replace(-1, 0)\\n'"
            ]
          },
          "execution_count": 13,
          "metadata": {},
          "output_type": "execute_result"
        }
      ],
      "source": [
        "R = Yawal.applymap(lambda x: 0 if x == -1 else 1)\n",
        "Y = Yawal.applymap(lambda x: 0 if x == -1 else x)\n",
        "print(R.head())\n",
        "print(Y.head())"
      ]
    },
    {
      "cell_type": "code",
      "execution_count": null,
      "metadata": {
        "colab": {
          "background_save": true
        },
        "id": "HxSqvsDD2jzC",
        "outputId": "1ecc0ffe-06b0-4e20-943a-71db87b42e64"
      },
      "outputs": [
        {
          "data": {
            "application/javascript": [
              "\n",
              "    async function download(id, filename, size) {\n",
              "      if (!google.colab.kernel.accessAllowed) {\n",
              "        return;\n",
              "      }\n",
              "      const div = document.createElement('div');\n",
              "      const label = document.createElement('label');\n",
              "      label.textContent = `Downloading \"${filename}\": `;\n",
              "      div.appendChild(label);\n",
              "      const progress = document.createElement('progress');\n",
              "      progress.max = size;\n",
              "      div.appendChild(progress);\n",
              "      document.body.appendChild(div);\n",
              "\n",
              "      const buffers = [];\n",
              "      let downloaded = 0;\n",
              "\n",
              "      const channel = await google.colab.kernel.comms.open(id);\n",
              "      // Send a message to notify the kernel that we're ready.\n",
              "      channel.send({})\n",
              "\n",
              "      for await (const message of channel.messages) {\n",
              "        // Send a message to notify the kernel that we're ready.\n",
              "        channel.send({})\n",
              "        if (message.buffers) {\n",
              "          for (const buffer of message.buffers) {\n",
              "            buffers.push(buffer);\n",
              "            downloaded += buffer.byteLength;\n",
              "            progress.value = downloaded;\n",
              "          }\n",
              "        }\n",
              "      }\n",
              "      const blob = new Blob(buffers, {type: 'application/binary'});\n",
              "      const a = document.createElement('a');\n",
              "      a.href = window.URL.createObjectURL(blob);\n",
              "      a.download = filename;\n",
              "      div.appendChild(a);\n",
              "      a.click();\n",
              "      div.remove();\n",
              "    }\n",
              "  "
            ],
            "text/plain": [
              "<IPython.core.display.Javascript object>"
            ]
          },
          "metadata": {},
          "output_type": "display_data"
        },
        {
          "data": {
            "application/javascript": [
              "download(\"download_2c5b97f8-c989-4800-ab0c-f8f63e3f6f68\", \"R_result.csv\", 266522757)"
            ],
            "text/plain": [
              "<IPython.core.display.Javascript object>"
            ]
          },
          "metadata": {},
          "output_type": "display_data"
        },
        {
          "data": {
            "application/javascript": [
              "\n",
              "    async function download(id, filename, size) {\n",
              "      if (!google.colab.kernel.accessAllowed) {\n",
              "        return;\n",
              "      }\n",
              "      const div = document.createElement('div');\n",
              "      const label = document.createElement('label');\n",
              "      label.textContent = `Downloading \"${filename}\": `;\n",
              "      div.appendChild(label);\n",
              "      const progress = document.createElement('progress');\n",
              "      progress.max = size;\n",
              "      div.appendChild(progress);\n",
              "      document.body.appendChild(div);\n",
              "\n",
              "      const buffers = [];\n",
              "      let downloaded = 0;\n",
              "\n",
              "      const channel = await google.colab.kernel.comms.open(id);\n",
              "      // Send a message to notify the kernel that we're ready.\n",
              "      channel.send({})\n",
              "\n",
              "      for await (const message of channel.messages) {\n",
              "        // Send a message to notify the kernel that we're ready.\n",
              "        channel.send({})\n",
              "        if (message.buffers) {\n",
              "          for (const buffer of message.buffers) {\n",
              "            buffers.push(buffer);\n",
              "            downloaded += buffer.byteLength;\n",
              "            progress.value = downloaded;\n",
              "          }\n",
              "        }\n",
              "      }\n",
              "      const blob = new Blob(buffers, {type: 'application/binary'});\n",
              "      const a = document.createElement('a');\n",
              "      a.href = window.URL.createObjectURL(blob);\n",
              "      a.download = filename;\n",
              "      div.appendChild(a);\n",
              "      a.click();\n",
              "      div.remove();\n",
              "    }\n",
              "  "
            ],
            "text/plain": [
              "<IPython.core.display.Javascript object>"
            ]
          },
          "metadata": {},
          "output_type": "display_data"
        },
        {
          "data": {
            "application/javascript": [
              "download(\"download_432adc3c-9600-499f-81bd-79c41eff1647\", \"Y_result.csv\", 490780364)"
            ],
            "text/plain": [
              "<IPython.core.display.Javascript object>"
            ]
          },
          "metadata": {},
          "output_type": "display_data"
        }
      ],
      "source": [
        "from google.colab import files\n",
        "\n",
        "R.to_csv('R_result.csv', index=False)\n",
        "Y.to_csv('Y_result.csv', index=False)\n",
        "\n",
        "\n",
        "files.download('R_result.csv')\n",
        "files.download('Y_result.csv')"
      ]
    },
    {
      "cell_type": "markdown",
      "source": [
        "This cost function was obtained from https://www.coursera.org/learn/unsupervised-learning-recommenders-reinforcement-learning\n",
        "\n",
        "Just like any other machine learning model's lost functions, this lost function is used to obtain the optimal amount of W and b"
      ],
      "metadata": {
        "id": "E5sNXGvfhtxz"
      }
    },
    {
      "cell_type": "code",
      "execution_count": null,
      "metadata": {
        "id": "eTgtNlJi1pI2"
      },
      "outputs": [],
      "source": [
        "def cofi_cost_func(X, W, b, Y, R, lambda_):\n",
        "    \"\"\"\n",
        "    Returns the cost for the content-based filtering\n",
        "    Args:\n",
        "      X (ndarray (num_movies,num_features)): matrix of item features\n",
        "      W (ndarray (num_users,num_features)) : matrix of user parameters\n",
        "      b (ndarray (1, num_users)            : vector of user parameters\n",
        "      Y (ndarray (num_movies,num_users)    : matrix of user ratings of movies\n",
        "      R (ndarray (num_movies,num_users)    : matrix, where R(i, j) = 1 if the i-th movies was rated by the j-th user\n",
        "      lambda_ (float): regularization parameter\n",
        "    Returns:\n",
        "      J (float) : Cost\n",
        "    \"\"\"\n",
        "    nm, nu = Y.shape\n",
        "    J = 0\n",
        "    ### START CODE HERE ###\n",
        "    for j in range(nu):\n",
        "        w = W[j,:]\n",
        "        b_j = b[0,j]\n",
        "        for i in range(nm):\n",
        "            x = X[i,:]\n",
        "            y = Y[i,j]\n",
        "            r = R[i,j]\n",
        "            J += r * np.square((np.dot(w,x) + b_j - y ))\n",
        "    J += (lambda_) * (np.sum(np.square(W)) + np.sum(np.square(X)))\n",
        "    J = J/2\n",
        "    ### END CODE HERE ###\n",
        "\n",
        "    return J"
      ]
    },
    {
      "cell_type": "code",
      "execution_count": null,
      "metadata": {
        "id": "pPLk_hdQ43ct"
      },
      "outputs": [],
      "source": [
        "def cofi_cost_func_v(X, W, b, Y, R, lambda_):\n",
        "    \"\"\"\n",
        "    Returns the cost for the content-based filtering\n",
        "    Vectorized for speed. Uses tensorflow operations to be compatible with custom training loop.\n",
        "    Args:\n",
        "      X (ndarray (num_movies,num_features)): matrix of item features\n",
        "      W (ndarray (num_users,num_features)) : matrix of user parameters\n",
        "      b (ndarray (1, num_users)            : vector of user parameters\n",
        "      Y (ndarray (num_movies,num_users)    : matrix of user ratings of movies\n",
        "      R (ndarray (num_movies,num_users)    : matrix, where R(i, j) = 1 if the i-th movies was rated by the j-th user\n",
        "      lambda_ (float): regularization parameter\n",
        "    Returns:\n",
        "      J (float) : Cost\n",
        "    \"\"\"\n",
        "    j = (tf.linalg.matmul(X, tf.transpose(W)) + b - Y)*R\n",
        "    J = 0.5 * tf.reduce_sum(j**2) + (lambda_/2) * (tf.reduce_sum(X**2) + tf.reduce_sum(W**2))\n",
        "    return J"
      ]
    },
    {
      "cell_type": "code",
      "execution_count": null,
      "metadata": {
        "id": "q0DDw_RQ3CC8"
      },
      "outputs": [],
      "source": [
        "num_movies, num_users = Y.shape\n",
        "num_features = 100\n",
        "Ynorm, Ymean = normalizeRatings(Y, R)\n",
        "\n",
        "tf.random.set_seed(1234) # for consistent results\n",
        "W = tf.Variable(tf.random.normal((num_users,  num_features),dtype=tf.float64),  name='W')\n",
        "X = tf.Variable(tf.random.normal((num_movies, num_features),dtype=tf.float64),  name='X')\n",
        "b = tf.Variable(tf.random.normal((1,          num_users),   dtype=tf.float64),  name='b')\n",
        "\n",
        "# Instantiate an optimizer.\n",
        "optimizer = keras.optimizers.Adam(learning_rate=1e-1)"
      ]
    },
    {
      "source": [
        "def normalizeRatings(Y, R):\n",
        "    \"\"\"\n",
        "    Preprocess data by subtracting mean rating for every movie (every row).\n",
        "    Only include real ratings R(i,j)=1.\n",
        "    [Ynorm, Ymean] = normalizeRatings(Y, R) normalized Y so that each movie\n",
        "    has a rating of 0 on average. Unrated moves then have a mean rating (0)\n",
        "    Returns the mean rating in Ymean.\n",
        "    \"\"\"\n",
        "    # Convert the Series to NumPy array before reshape\n",
        "    Ymean = (np.sum(Y*R,axis=1)/(np.sum(R, axis=1)+1e-12)).to_numpy().reshape(-1,1)\n",
        "    Ynorm = Y - np.multiply(Ymean, R)\n",
        "    return(Ynorm, Ymean)"
      ],
      "cell_type": "code",
      "metadata": {
        "id": "8AA0dG6P92Bx"
      },
      "execution_count": null,
      "outputs": []
    },
    {
      "cell_type": "code",
      "execution_count": null,
      "metadata": {
        "colab": {
          "base_uri": "https://localhost:8080/"
        },
        "id": "P2lXVJI33jRb",
        "outputId": "7e6bb951-9ac9-47ce-e532-b0821e790b05"
      },
      "outputs": [
        {
          "output_type": "stream",
          "name": "stdout",
          "text": [
            "Training loss at iteration 0: 6756.9\n",
            "Training loss at iteration 20: 6062.0\n",
            "Training loss at iteration 40: 5579.8\n",
            "Training loss at iteration 60: 5242.5\n",
            "Training loss at iteration 80: 5005.2\n",
            "Training loss at iteration 100: 4837.2\n",
            "Training loss at iteration 120: 4717.1\n",
            "Training loss at iteration 140: 4629.9\n",
            "Training loss at iteration 160: 4565.5\n",
            "Training loss at iteration 180: 4516.9\n"
          ]
        }
      ],
      "source": [
        "iterations = 200\n",
        "lambda_ = 1\n",
        "for iter in range(iterations):\n",
        "    # Use TensorFlow’s GradientTape\n",
        "    # to record the operations used to compute the cost\n",
        "    with tf.GradientTape() as tape:\n",
        "\n",
        "        # Compute the cost (forward pass included in cost)\n",
        "        cost_value = cofi_cost_func_v(X, W, b, Ynorm, R, lambda_)\n",
        "\n",
        "    # Use the gradient tape to automatically retrieve\n",
        "    # the gradients of the trainable variables with respect to the loss\n",
        "    grads = tape.gradient( cost_value, [X,W,b] )\n",
        "\n",
        "    # Run one step of gradient descent by updating\n",
        "    # the value of the variables to minimize the loss.\n",
        "    optimizer.apply_gradients( zip(grads, [X,W,b]) )\n",
        "\n",
        "    # Log periodically.\n",
        "    if iter % 20 == 0:\n",
        "        print(f\"Training loss at iteration {iter}: {cost_value:0.1f}\")"
      ]
    },
    {
      "cell_type": "markdown",
      "source": [
        "As expected, the result is indeed a bit off since the data was reduced by 1/150 because the RAM and Disk maximum capacity in google collab ran out if i used all of the data."
      ],
      "metadata": {
        "id": "c-2EWIXFitIM"
      }
    },
    {
      "cell_type": "code",
      "source": [
        "p = np.matmul(X.numpy(), np.transpose(W.numpy())) + b.numpy()\n",
        "\n",
        "pm = p + Ymean\n",
        "\n",
        "my_predictions = pm[:,0]\n",
        "\n",
        "ix = tf.argsort(my_predictions, direction='DESCENDING')\n",
        "\n",
        "\n",
        "for i in range(100):\n",
        "    j = ix[i].numpy()\n",
        "    anime_id = Yawal.index[j]\n",
        "    anime_row = anime[anime['anime_id'] == anime_id].iloc[0]\n",
        "\n",
        "    original_rating = anime_row['rating'] if 'rating' in anime_row else 'N/A'\n",
        "\n",
        "    print(f\"Predicting rating {my_predictions[j]:0.2f} for anime {anime_row['name']} (Original rating: {original_rating})\")\n"
      ],
      "metadata": {
        "colab": {
          "base_uri": "https://localhost:8080/"
        },
        "id": "Xhes6qrK_I4U",
        "outputId": "6dcfd507-fb5e-4121-c402-cf54d299375c"
      },
      "execution_count": null,
      "outputs": [
        {
          "output_type": "stream",
          "name": "stdout",
          "text": [
            "Predicting rating 9.92 for anime Hourou Musuko Specials (Original rating: 7.7)\n",
            "Predicting rating 9.92 for anime Nee Summer! (Original rating: 7.08)\n",
            "Predicting rating 9.92 for anime Tamayura: Sotsugyou Shashin Part 3 - Akogare (Original rating: 7.88)\n",
            "Predicting rating 9.92 for anime Sorette♡Dakara ne! (Original rating: 5.15)\n",
            "Predicting rating 9.92 for anime Namiuchigiwa no Muromi-san OVA (Original rating: 6.83)\n",
            "Predicting rating 9.92 for anime Wonderful Rush (Original rating: 7.4)\n",
            "Predicting rating 9.92 for anime Nee, Chanto Shiyou Yo! (Original rating: 7.09)\n",
            "Predicting rating 9.92 for anime Tentai Senshi Sunred (Original rating: 7.96)\n",
            "Predicting rating 9.92 for anime Macross Dynamite 7 (Original rating: 6.97)\n",
            "Predicting rating 9.92 for anime Shakkin Shimai (Original rating: 6.15)\n",
            "Predicting rating 9.92 for anime Shijou Saikyou no Deshi Kenichi Specials (Original rating: 7.35)\n",
            "Predicting rating 9.92 for anime Detective Conan Movie 19: The Hellfire Sunflowers (Original rating: 7.77)\n",
            "Predicting rating 9.92 for anime Sugar*Soldier (Original rating: 5.87)\n",
            "Predicting rating 9.92 for anime Tokyo Majin Gakuen Kenpucho: Tou Dai Ni Maku (Original rating: 7.42)\n",
            "Predicting rating 9.92 for anime Doraemon Movie 06: Nobita no Little Star Wars (Original rating: 7.2)\n",
            "Predicting rating 9.92 for anime Papa to Odorou (Original rating: 7.14)\n",
            "Predicting rating 9.92 for anime Ie Naki Ko (Original rating: 7.9)\n",
            "Predicting rating 9.92 for anime Nezha Nao Hai (Original rating: 6.76)\n",
            "Predicting rating 9.92 for anime Happy Birthday: Inochi Kagayaku Toki (Original rating: 7.48)\n",
            "Predicting rating 9.92 for anime Sonic X Pilot (Original rating: 6.29)\n",
            "Predicting rating 9.92 for anime Kuromajo-san ga Tooru!! (Original rating: 6.54)\n",
            "Predicting rating 9.92 for anime Pucca (Original rating: 6.83)\n",
            "Predicting rating 9.92 for anime Tenshi no Drop (Original rating: 3.96)\n",
            "Predicting rating 9.92 for anime Yuu☆Yuu☆Hakusho: Eizou Hakusho (Original rating: 7.48)\n",
            "Predicting rating 9.92 for anime Ginga Eiyuu Densetsu Gaiden: Senoku no Hoshi, Senoku no Hikari (Original rating: 8.2)\n",
            "Predicting rating 9.92 for anime Hello Kitty no Stump Village (Original rating: 5.67)\n",
            "Predicting rating 9.92 for anime Urusei Yatsura Movie 2: Beautiful Dreamer (Original rating: 7.89)\n",
            "Predicting rating 9.92 for anime Chou Denji Machine Voltes V (Original rating: 7.54)\n",
            "Predicting rating 9.92 for anime Sentakuya Shin-chan (Original rating: 7.02)\n",
            "Predicting rating 9.92 for anime Pokemon Fushigi no Dungeon: Shutsudou Pokemon Kyuujotai Ganbaruzu! (Original rating: 6.63)\n",
            "Predicting rating 9.92 for anime Kurohime: Shikkoku no Yakata (Original rating: 6.05)\n",
            "Predicting rating 9.92 for anime 3x3 Eyes Seima Densetsu (Original rating: 7.13)\n",
            "Predicting rating 9.92 for anime Mejoku (Original rating: 6.43)\n",
            "Predicting rating 9.92 for anime Nitaboh (Original rating: 7.53)\n",
            "Predicting rating 9.92 for anime Street Fighter Alpha: Generations (Original rating: 6.6)\n",
            "Predicting rating 9.92 for anime Tanoshii Muumin Ikka Bouken Nikki (Original rating: 7.56)\n",
            "Predicting rating 9.92 for anime Itadaki! Seieki♥ (Original rating: 7.4)\n",
            "Predicting rating 9.92 for anime Hana no Joshi Announcer: Newscaster Etsuko (Original rating: 6.52)\n",
            "Predicting rating 9.92 for anime Tsun Tsun Maid wa Ero Ero Desu (Original rating: 7.13)\n",
            "Predicting rating 9.92 for anime Grimm Masterpiece Theater (Original rating: 7.62)\n",
            "Predicting rating 9.92 for anime Usagi-chan de Cue!! (Original rating: 5.79)\n",
            "Predicting rating 9.92 for anime Madang-Eul Naon Amtalg (Original rating: 7.97)\n",
            "Predicting rating 9.92 for anime Macross Flash Back 2012 (Original rating: 7.04)\n",
            "Predicting rating 9.92 for anime Vampire Hunter (Original rating: 6.83)\n",
            "Predicting rating 9.92 for anime Kindaichi Shounen no Jikenbo (Original rating: 7.18)\n",
            "Predicting rating 9.92 for anime Soratobu Yuureisen (Original rating: 6.85)\n",
            "Predicting rating 9.92 for anime Cipher (Original rating: 5.15)\n",
            "Predicting rating 9.92 for anime Precure All Stars Movie New Stage 2: Kokoro no Tomodachi (Original rating: 7.3)\n",
            "Predicting rating 9.92 for anime Winter Sonata (Original rating: 7.51)\n",
            "Predicting rating 9.92 for anime Arabian Nights: Sindbad no Bouken (TV) (Original rating: 7.26)\n",
            "Predicting rating 9.92 for anime Kininaru Roommate (Original rating: 6.66)\n",
            "Predicting rating 9.92 for anime Macross F Music Clip Shuu: Nyankuri (Original rating: 7.47)\n",
            "Predicting rating 9.92 for anime Gundress (Original rating: 5.69)\n",
            "Predicting rating 9.92 for anime Kanokon: Manatsu no Dai Shanikusai Specials (Original rating: 6.68)\n",
            "Predicting rating 9.92 for anime Itadaki! Seieki♥ Special (Original rating: 7.1)\n",
            "Predicting rating 9.92 for anime Uchuu Kyoudai: Apo&#039;s Dream (Original rating: 5.62)\n",
            "Predicting rating 9.92 for anime Lupin III: Part III (Original rating: 7.5)\n",
            "Predicting rating 9.92 for anime Tentacle and Witches (Original rating: 7.24)\n",
            "Predicting rating 9.92 for anime Kuroinu: Kedakaki Seijo wa Hakudaku ni Somaru (Original rating: 7.49)\n",
            "Predicting rating 9.92 for anime Uchuu Koukyoushi Maetel: Ginga Tetsudou 999 Gaiden (Original rating: 6.9)\n",
            "Predicting rating 9.92 for anime Durarara!!x2 Shou: Watashi no Kokoro wa Nabe Moyou (Original rating: 7.88)\n",
            "Predicting rating 9.92 for anime Taiyou no Ko Esteban (Original rating: 7.74)\n",
            "Predicting rating 9.92 for anime Mahou Shoujo Pretty Sammy (Original rating: 6.51)\n",
            "Predicting rating 9.92 for anime Bokura wa Minna Kawaisou Specials (Original rating: 7.23)\n",
            "Predicting rating 9.92 for anime Higashi no Eden: Falling Down (Original rating: 7.56)\n",
            "Predicting rating 9.92 for anime Sekai Meisaku Douwa: Oyayubi Hime (Original rating: 6.52)\n",
            "Predicting rating 9.92 for anime High☆Speed!: Free! Starting Days (Original rating: 8.15)\n",
            "Predicting rating 9.92 for anime Mad★Bull 34 (Original rating: 6.34)\n",
            "Predicting rating 9.92 for anime Survival (Original rating: 6.42)\n",
            "Predicting rating 9.92 for anime All Alone With You (Original rating: 7.35)\n",
            "Predicting rating 9.92 for anime Zekkyou Gakkyuu (Original rating: 5.5)\n",
            "Predicting rating 9.92 for anime Natsu-iro Kiseki: 15-kaime no Natsuyasumi (Original rating: 6.81)\n",
            "Predicting rating 9.92 for anime Persona 3 the Movie 4: Winter of Rebirth (Original rating: 8.17)\n",
            "Predicting rating 9.92 for anime Pretty Rhythm: Dear My Future (Original rating: 6.98)\n",
            "Predicting rating 9.92 for anime Transformers: Car Robots (Original rating: 6.72)\n",
            "Predicting rating 9.92 for anime Sukitte Ii na yo.: Mei and Marshmallow (Original rating: 6.62)\n",
            "Predicting rating 9.92 for anime Shin Maple Town Monogatari: Palm Town-hen (Original rating: 7.07)\n",
            "Predicting rating 9.92 for anime Bronze: Zetsuai Since 1989 (Original rating: 6.67)\n",
            "Predicting rating 9.92 for anime Ma ga Ochiru Yoru (Original rating: 6.59)\n",
            "Predicting rating 9.92 for anime Mamotte! Lollipop (Original rating: 6.99)\n",
            "Predicting rating 9.92 for anime Beelzebub Specials (Original rating: 7.44)\n",
            "Predicting rating 9.92 for anime Peace Hame! (Original rating: 7.18)\n",
            "Predicting rating 9.92 for anime Inazuma Eleven Go Recap (Original rating: 6.83)\n",
            "Predicting rating 9.92 for anime Kafun Shoujo Chuuihou! The Animation (Original rating: 7.23)\n",
            "Predicting rating 9.92 for anime Metal Fight Beyblade Zero G (Original rating: 6.59)\n",
            "Predicting rating 9.78 for anime Ginga Eiyuu Densetsu (Original rating: 9.11)\n",
            "Predicting rating 9.75 for anime Haikyuu!!: Karasuno Koukou VS Shiratorizawa Gakuen Koukou (Original rating: 9.15)\n",
            "Predicting rating 9.58 for anime Kimi no Na wa. (Original rating: 9.37)\n",
            "Predicting rating 9.58 for anime Mobile Suit Victory Gundam (Original rating: 6.98)\n",
            "Predicting rating 9.58 for anime Ginga Nagareboshi Gin (Original rating: 8.14)\n",
            "Predicting rating 9.58 for anime Super Lovers (Original rating: 7.54)\n",
            "Predicting rating 9.49 for anime One Piece Film: Strong World Episode 0 (Original rating: 8.16)\n",
            "Predicting rating 9.42 for anime Mazinkaiser (Original rating: 7.47)\n",
            "Predicting rating 9.42 for anime Major: World Series (Original rating: 8.5)\n",
            "Predicting rating 9.42 for anime Prince of Tennis: Eikokushiki Teikyuu Shiro Kessen! (Original rating: 7.6)\n",
            "Predicting rating 9.42 for anime Ginga Eiyuu Densetsu Gaiden: Rasen Meikyuu (Original rating: 8.1)\n",
            "Predicting rating 9.42 for anime Glass no Kamen (2005) (Original rating: 8.23)\n",
            "Predicting rating 9.42 for anime Pico: My Little Summer Story (Original rating: 5.21)\n",
            "Predicting rating 9.42 for anime Doukyuusei (Movie) (Original rating: 8.53)\n",
            "Predicting rating 9.42 for anime Kyou kara Maou! 3rd Series (Original rating: 7.97)\n"
          ]
        }
      ]
    },
    {
      "cell_type": "code",
      "source": [],
      "metadata": {
        "id": "gl8s5sGO9-7W"
      },
      "execution_count": null,
      "outputs": []
    }
  ],
  "metadata": {
    "accelerator": "GPU",
    "colab": {
      "gpuType": "T4",
      "provenance": []
    },
    "kernelspec": {
      "display_name": "Python 3",
      "name": "python3"
    },
    "language_info": {
      "name": "python"
    }
  },
  "nbformat": 4,
  "nbformat_minor": 0
}